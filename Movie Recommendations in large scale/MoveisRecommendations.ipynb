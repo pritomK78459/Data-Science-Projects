{
  "nbformat": 4,
  "nbformat_minor": 0,
  "metadata": {
    "colab": {
      "name": "MoveisRecommendations.ipynb",
      "provenance": [],
      "collapsed_sections": []
    },
    "kernelspec": {
      "name": "python3",
      "display_name": "Python 3"
    }
  },
  "cells": [
    {
      "cell_type": "code",
      "metadata": {
        "id": "nJ51zcaqEWls",
        "colab_type": "code",
        "outputId": "0502bc46-e3e9-4b34-fe39-4e35ad061dce",
        "colab": {
          "resources": {
            "http://localhost:8080/nbextensions/google.colab/files.js": {
              "data": "Ly8gQ29weXJpZ2h0IDIwMTcgR29vZ2xlIExMQwovLwovLyBMaWNlbnNlZCB1bmRlciB0aGUgQXBhY2hlIExpY2Vuc2UsIFZlcnNpb24gMi4wICh0aGUgIkxpY2Vuc2UiKTsKLy8geW91IG1heSBub3QgdXNlIHRoaXMgZmlsZSBleGNlcHQgaW4gY29tcGxpYW5jZSB3aXRoIHRoZSBMaWNlbnNlLgovLyBZb3UgbWF5IG9idGFpbiBhIGNvcHkgb2YgdGhlIExpY2Vuc2UgYXQKLy8KLy8gICAgICBodHRwOi8vd3d3LmFwYWNoZS5vcmcvbGljZW5zZXMvTElDRU5TRS0yLjAKLy8KLy8gVW5sZXNzIHJlcXVpcmVkIGJ5IGFwcGxpY2FibGUgbGF3IG9yIGFncmVlZCB0byBpbiB3cml0aW5nLCBzb2Z0d2FyZQovLyBkaXN0cmlidXRlZCB1bmRlciB0aGUgTGljZW5zZSBpcyBkaXN0cmlidXRlZCBvbiBhbiAiQVMgSVMiIEJBU0lTLAovLyBXSVRIT1VUIFdBUlJBTlRJRVMgT1IgQ09ORElUSU9OUyBPRiBBTlkgS0lORCwgZWl0aGVyIGV4cHJlc3Mgb3IgaW1wbGllZC4KLy8gU2VlIHRoZSBMaWNlbnNlIGZvciB0aGUgc3BlY2lmaWMgbGFuZ3VhZ2UgZ292ZXJuaW5nIHBlcm1pc3Npb25zIGFuZAovLyBsaW1pdGF0aW9ucyB1bmRlciB0aGUgTGljZW5zZS4KCi8qKgogKiBAZmlsZW92ZXJ2aWV3IEhlbHBlcnMgZm9yIGdvb2dsZS5jb2xhYiBQeXRob24gbW9kdWxlLgogKi8KKGZ1bmN0aW9uKHNjb3BlKSB7CmZ1bmN0aW9uIHNwYW4odGV4dCwgc3R5bGVBdHRyaWJ1dGVzID0ge30pIHsKICBjb25zdCBlbGVtZW50ID0gZG9jdW1lbnQuY3JlYXRlRWxlbWVudCgnc3BhbicpOwogIGVsZW1lbnQudGV4dENvbnRlbnQgPSB0ZXh0OwogIGZvciAoY29uc3Qga2V5IG9mIE9iamVjdC5rZXlzKHN0eWxlQXR0cmlidXRlcykpIHsKICAgIGVsZW1lbnQuc3R5bGVba2V5XSA9IHN0eWxlQXR0cmlidXRlc1trZXldOwogIH0KICByZXR1cm4gZWxlbWVudDsKfQoKLy8gTWF4IG51bWJlciBvZiBieXRlcyB3aGljaCB3aWxsIGJlIHVwbG9hZGVkIGF0IGEgdGltZS4KY29uc3QgTUFYX1BBWUxPQURfU0laRSA9IDEwMCAqIDEwMjQ7Ci8vIE1heCBhbW91bnQgb2YgdGltZSB0byBibG9jayB3YWl0aW5nIGZvciB0aGUgdXNlci4KY29uc3QgRklMRV9DSEFOR0VfVElNRU9VVF9NUyA9IDMwICogMTAwMDsKCmZ1bmN0aW9uIF91cGxvYWRGaWxlcyhpbnB1dElkLCBvdXRwdXRJZCkgewogIGNvbnN0IHN0ZXBzID0gdXBsb2FkRmlsZXNTdGVwKGlucHV0SWQsIG91dHB1dElkKTsKICBjb25zdCBvdXRwdXRFbGVtZW50ID0gZG9jdW1lbnQuZ2V0RWxlbWVudEJ5SWQob3V0cHV0SWQpOwogIC8vIENhY2hlIHN0ZXBzIG9uIHRoZSBvdXRwdXRFbGVtZW50IHRvIG1ha2UgaXQgYXZhaWxhYmxlIGZvciB0aGUgbmV4dCBjYWxsCiAgLy8gdG8gdXBsb2FkRmlsZXNDb250aW51ZSBmcm9tIFB5dGhvbi4KICBvdXRwdXRFbGVtZW50LnN0ZXBzID0gc3RlcHM7CgogIHJldHVybiBfdXBsb2FkRmlsZXNDb250aW51ZShvdXRwdXRJZCk7Cn0KCi8vIFRoaXMgaXMgcm91Z2hseSBhbiBhc3luYyBnZW5lcmF0b3IgKG5vdCBzdXBwb3J0ZWQgaW4gdGhlIGJyb3dzZXIgeWV0KSwKLy8gd2hlcmUgdGhlcmUgYXJlIG11bHRpcGxlIGFzeW5jaHJvbm91cyBzdGVwcyBhbmQgdGhlIFB5dGhvbiBzaWRlIGlzIGdvaW5nCi8vIHRvIHBvbGwgZm9yIGNvbXBsZXRpb24gb2YgZWFjaCBzdGVwLgovLyBUaGlzIHVzZXMgYSBQcm9taXNlIHRvIGJsb2NrIHRoZSBweXRob24gc2lkZSBvbiBjb21wbGV0aW9uIG9mIGVhY2ggc3RlcCwKLy8gdGhlbiBwYXNzZXMgdGhlIHJlc3VsdCBvZiB0aGUgcHJldmlvdXMgc3RlcCBhcyB0aGUgaW5wdXQgdG8gdGhlIG5leHQgc3RlcC4KZnVuY3Rpb24gX3VwbG9hZEZpbGVzQ29udGludWUob3V0cHV0SWQpIHsKICBjb25zdCBvdXRwdXRFbGVtZW50ID0gZG9jdW1lbnQuZ2V0RWxlbWVudEJ5SWQob3V0cHV0SWQpOwogIGNvbnN0IHN0ZXBzID0gb3V0cHV0RWxlbWVudC5zdGVwczsKCiAgY29uc3QgbmV4dCA9IHN0ZXBzLm5leHQob3V0cHV0RWxlbWVudC5sYXN0UHJvbWlzZVZhbHVlKTsKICByZXR1cm4gUHJvbWlzZS5yZXNvbHZlKG5leHQudmFsdWUucHJvbWlzZSkudGhlbigodmFsdWUpID0+IHsKICAgIC8vIENhY2hlIHRoZSBsYXN0IHByb21pc2UgdmFsdWUgdG8gbWFrZSBpdCBhdmFpbGFibGUgdG8gdGhlIG5leHQKICAgIC8vIHN0ZXAgb2YgdGhlIGdlbmVyYXRvci4KICAgIG91dHB1dEVsZW1lbnQubGFzdFByb21pc2VWYWx1ZSA9IHZhbHVlOwogICAgcmV0dXJuIG5leHQudmFsdWUucmVzcG9uc2U7CiAgfSk7Cn0KCi8qKgogKiBHZW5lcmF0b3IgZnVuY3Rpb24gd2hpY2ggaXMgY2FsbGVkIGJldHdlZW4gZWFjaCBhc3luYyBzdGVwIG9mIHRoZSB1cGxvYWQKICogcHJvY2Vzcy4KICogQHBhcmFtIHtzdHJpbmd9IGlucHV0SWQgRWxlbWVudCBJRCBvZiB0aGUgaW5wdXQgZmlsZSBwaWNrZXIgZWxlbWVudC4KICogQHBhcmFtIHtzdHJpbmd9IG91dHB1dElkIEVsZW1lbnQgSUQgb2YgdGhlIG91dHB1dCBkaXNwbGF5LgogKiBAcmV0dXJuIHshSXRlcmFibGU8IU9iamVjdD59IEl0ZXJhYmxlIG9mIG5leHQgc3RlcHMuCiAqLwpmdW5jdGlvbiogdXBsb2FkRmlsZXNTdGVwKGlucHV0SWQsIG91dHB1dElkKSB7CiAgY29uc3QgaW5wdXRFbGVtZW50ID0gZG9jdW1lbnQuZ2V0RWxlbWVudEJ5SWQoaW5wdXRJZCk7CiAgaW5wdXRFbGVtZW50LmRpc2FibGVkID0gZmFsc2U7CgogIGNvbnN0IG91dHB1dEVsZW1lbnQgPSBkb2N1bWVudC5nZXRFbGVtZW50QnlJZChvdXRwdXRJZCk7CiAgb3V0cHV0RWxlbWVudC5pbm5lckhUTUwgPSAnJzsKCiAgY29uc3QgcGlja2VkUHJvbWlzZSA9IG5ldyBQcm9taXNlKChyZXNvbHZlKSA9PiB7CiAgICBpbnB1dEVsZW1lbnQuYWRkRXZlbnRMaXN0ZW5lcignY2hhbmdlJywgKGUpID0+IHsKICAgICAgcmVzb2x2ZShlLnRhcmdldC5maWxlcyk7CiAgICB9KTsKICB9KTsKCiAgY29uc3QgY2FuY2VsID0gZG9jdW1lbnQuY3JlYXRlRWxlbWVudCgnYnV0dG9uJyk7CiAgaW5wdXRFbGVtZW50LnBhcmVudEVsZW1lbnQuYXBwZW5kQ2hpbGQoY2FuY2VsKTsKICBjYW5jZWwudGV4dENvbnRlbnQgPSAnQ2FuY2VsIHVwbG9hZCc7CiAgY29uc3QgY2FuY2VsUHJvbWlzZSA9IG5ldyBQcm9taXNlKChyZXNvbHZlKSA9PiB7CiAgICBjYW5jZWwub25jbGljayA9ICgpID0+IHsKICAgICAgcmVzb2x2ZShudWxsKTsKICAgIH07CiAgfSk7CgogIC8vIENhbmNlbCB1cGxvYWQgaWYgdXNlciBoYXNuJ3QgcGlja2VkIGFueXRoaW5nIGluIHRpbWVvdXQuCiAgY29uc3QgdGltZW91dFByb21pc2UgPSBuZXcgUHJvbWlzZSgocmVzb2x2ZSkgPT4gewogICAgc2V0VGltZW91dCgoKSA9PiB7CiAgICAgIHJlc29sdmUobnVsbCk7CiAgICB9LCBGSUxFX0NIQU5HRV9USU1FT1VUX01TKTsKICB9KTsKCiAgLy8gV2FpdCBmb3IgdGhlIHVzZXIgdG8gcGljayB0aGUgZmlsZXMuCiAgY29uc3QgZmlsZXMgPSB5aWVsZCB7CiAgICBwcm9taXNlOiBQcm9taXNlLnJhY2UoW3BpY2tlZFByb21pc2UsIHRpbWVvdXRQcm9taXNlLCBjYW5jZWxQcm9taXNlXSksCiAgICByZXNwb25zZTogewogICAgICBhY3Rpb246ICdzdGFydGluZycsCiAgICB9CiAgfTsKCiAgaWYgKCFmaWxlcykgewogICAgcmV0dXJuIHsKICAgICAgcmVzcG9uc2U6IHsKICAgICAgICBhY3Rpb246ICdjb21wbGV0ZScsCiAgICAgIH0KICAgIH07CiAgfQoKICBjYW5jZWwucmVtb3ZlKCk7CgogIC8vIERpc2FibGUgdGhlIGlucHV0IGVsZW1lbnQgc2luY2UgZnVydGhlciBwaWNrcyBhcmUgbm90IGFsbG93ZWQuCiAgaW5wdXRFbGVtZW50LmRpc2FibGVkID0gdHJ1ZTsKCiAgZm9yIChjb25zdCBmaWxlIG9mIGZpbGVzKSB7CiAgICBjb25zdCBsaSA9IGRvY3VtZW50LmNyZWF0ZUVsZW1lbnQoJ2xpJyk7CiAgICBsaS5hcHBlbmQoc3BhbihmaWxlLm5hbWUsIHtmb250V2VpZ2h0OiAnYm9sZCd9KSk7CiAgICBsaS5hcHBlbmQoc3BhbigKICAgICAgICBgKCR7ZmlsZS50eXBlIHx8ICduL2EnfSkgLSAke2ZpbGUuc2l6ZX0gYnl0ZXMsIGAgKwogICAgICAgIGBsYXN0IG1vZGlmaWVkOiAkewogICAgICAgICAgICBmaWxlLmxhc3RNb2RpZmllZERhdGUgPyBmaWxlLmxhc3RNb2RpZmllZERhdGUudG9Mb2NhbGVEYXRlU3RyaW5nKCkgOgogICAgICAgICAgICAgICAgICAgICAgICAgICAgICAgICAgICAnbi9hJ30gLSBgKSk7CiAgICBjb25zdCBwZXJjZW50ID0gc3BhbignMCUgZG9uZScpOwogICAgbGkuYXBwZW5kQ2hpbGQocGVyY2VudCk7CgogICAgb3V0cHV0RWxlbWVudC5hcHBlbmRDaGlsZChsaSk7CgogICAgY29uc3QgZmlsZURhdGFQcm9taXNlID0gbmV3IFByb21pc2UoKHJlc29sdmUpID0+IHsKICAgICAgY29uc3QgcmVhZGVyID0gbmV3IEZpbGVSZWFkZXIoKTsKICAgICAgcmVhZGVyLm9ubG9hZCA9IChlKSA9PiB7CiAgICAgICAgcmVzb2x2ZShlLnRhcmdldC5yZXN1bHQpOwogICAgICB9OwogICAgICByZWFkZXIucmVhZEFzQXJyYXlCdWZmZXIoZmlsZSk7CiAgICB9KTsKICAgIC8vIFdhaXQgZm9yIHRoZSBkYXRhIHRvIGJlIHJlYWR5LgogICAgbGV0IGZpbGVEYXRhID0geWllbGQgewogICAgICBwcm9taXNlOiBmaWxlRGF0YVByb21pc2UsCiAgICAgIHJlc3BvbnNlOiB7CiAgICAgICAgYWN0aW9uOiAnY29udGludWUnLAogICAgICB9CiAgICB9OwoKICAgIC8vIFVzZSBhIGNodW5rZWQgc2VuZGluZyB0byBhdm9pZCBtZXNzYWdlIHNpemUgbGltaXRzLiBTZWUgYi82MjExNTY2MC4KICAgIGxldCBwb3NpdGlvbiA9IDA7CiAgICB3aGlsZSAocG9zaXRpb24gPCBmaWxlRGF0YS5ieXRlTGVuZ3RoKSB7CiAgICAgIGNvbnN0IGxlbmd0aCA9IE1hdGgubWluKGZpbGVEYXRhLmJ5dGVMZW5ndGggLSBwb3NpdGlvbiwgTUFYX1BBWUxPQURfU0laRSk7CiAgICAgIGNvbnN0IGNodW5rID0gbmV3IFVpbnQ4QXJyYXkoZmlsZURhdGEsIHBvc2l0aW9uLCBsZW5ndGgpOwogICAgICBwb3NpdGlvbiArPSBsZW5ndGg7CgogICAgICBjb25zdCBiYXNlNjQgPSBidG9hKFN0cmluZy5mcm9tQ2hhckNvZGUuYXBwbHkobnVsbCwgY2h1bmspKTsKICAgICAgeWllbGQgewogICAgICAgIHJlc3BvbnNlOiB7CiAgICAgICAgICBhY3Rpb246ICdhcHBlbmQnLAogICAgICAgICAgZmlsZTogZmlsZS5uYW1lLAogICAgICAgICAgZGF0YTogYmFzZTY0LAogICAgICAgIH0sCiAgICAgIH07CiAgICAgIHBlcmNlbnQudGV4dENvbnRlbnQgPQogICAgICAgICAgYCR7TWF0aC5yb3VuZCgocG9zaXRpb24gLyBmaWxlRGF0YS5ieXRlTGVuZ3RoKSAqIDEwMCl9JSBkb25lYDsKICAgIH0KICB9CgogIC8vIEFsbCBkb25lLgogIHlpZWxkIHsKICAgIHJlc3BvbnNlOiB7CiAgICAgIGFjdGlvbjogJ2NvbXBsZXRlJywKICAgIH0KICB9Owp9CgpzY29wZS5nb29nbGUgPSBzY29wZS5nb29nbGUgfHwge307CnNjb3BlLmdvb2dsZS5jb2xhYiA9IHNjb3BlLmdvb2dsZS5jb2xhYiB8fCB7fTsKc2NvcGUuZ29vZ2xlLmNvbGFiLl9maWxlcyA9IHsKICBfdXBsb2FkRmlsZXMsCiAgX3VwbG9hZEZpbGVzQ29udGludWUsCn07Cn0pKHNlbGYpOwo=",
              "ok": true,
              "headers": [
                [
                  "content-type",
                  "application/javascript"
                ]
              ],
              "status": 200,
              "status_text": ""
            }
          },
          "base_uri": "https://localhost:8080/",
          "height": 162
        }
      },
      "source": [
        "import pandas as pd\n",
        "import numpy as np\n",
        "import matplotlib.pyplot as plt\n",
        "import seaborn as sns\n",
        "import csv\n",
        "import datetime\n",
        "from collections import defaultdict\n",
        "from math import sqrt\n",
        "import os\n",
        "import heapq\n",
        "from operator import itemgetter\n",
        "\n",
        "from google.colab import files\n",
        "uploaded = files.upload()"
      ],
      "execution_count": 1,
      "outputs": [
        {
          "output_type": "stream",
          "text": [
            "/usr/local/lib/python3.6/dist-packages/statsmodels/tools/_testing.py:19: FutureWarning: pandas.util.testing is deprecated. Use the functions in the public API at pandas.testing instead.\n",
            "  import pandas.util.testing as tm\n"
          ],
          "name": "stderr"
        },
        {
          "output_type": "display_data",
          "data": {
            "text/html": [
              "\n",
              "     <input type=\"file\" id=\"files-ce1fbf7c-c987-455e-95d6-5bc9e4b78818\" name=\"files[]\" multiple disabled />\n",
              "     <output id=\"result-ce1fbf7c-c987-455e-95d6-5bc9e4b78818\">\n",
              "      Upload widget is only available when the cell has been executed in the\n",
              "      current browser session. Please rerun this cell to enable.\n",
              "      </output>\n",
              "      <script src=\"/nbextensions/google.colab/files.js\"></script> "
            ],
            "text/plain": [
              "<IPython.core.display.HTML object>"
            ]
          },
          "metadata": {
            "tags": []
          }
        },
        {
          "output_type": "stream",
          "text": [
            "Saving u.data to u.data\n",
            "Saving u.item.item to u.item.item\n"
          ],
          "name": "stdout"
        }
      ]
    },
    {
      "cell_type": "code",
      "metadata": {
        "id": "ZAaWPq4oFrHI",
        "colab_type": "code",
        "colab": {}
      },
      "source": [
        "items = open('u.item.item','r',encoding=\"ISO-8859-1\")\n",
        "item_data = items.read()\n",
        "item_data\n",
        "items.close()"
      ],
      "execution_count": 0,
      "outputs": []
    },
    {
      "cell_type": "code",
      "metadata": {
        "id": "_aPXmwVZGbLf",
        "colab_type": "code",
        "outputId": "d6d329f3-e531-4064-fc1d-ee1975b4943f",
        "colab": {
          "base_uri": "https://localhost:8080/",
          "height": 402
        }
      },
      "source": [
        "data = pd.read_csv('u.data',sep = '\\t',header=None)\n",
        "data"
      ],
      "execution_count": 0,
      "outputs": [
        {
          "output_type": "execute_result",
          "data": {
            "text/html": [
              "<div>\n",
              "<style scoped>\n",
              "    .dataframe tbody tr th:only-of-type {\n",
              "        vertical-align: middle;\n",
              "    }\n",
              "\n",
              "    .dataframe tbody tr th {\n",
              "        vertical-align: top;\n",
              "    }\n",
              "\n",
              "    .dataframe thead th {\n",
              "        text-align: right;\n",
              "    }\n",
              "</style>\n",
              "<table border=\"1\" class=\"dataframe\">\n",
              "  <thead>\n",
              "    <tr style=\"text-align: right;\">\n",
              "      <th></th>\n",
              "      <th>0</th>\n",
              "      <th>1</th>\n",
              "      <th>2</th>\n",
              "      <th>3</th>\n",
              "    </tr>\n",
              "  </thead>\n",
              "  <tbody>\n",
              "    <tr>\n",
              "      <th>0</th>\n",
              "      <td>196</td>\n",
              "      <td>242</td>\n",
              "      <td>3</td>\n",
              "      <td>881250949</td>\n",
              "    </tr>\n",
              "    <tr>\n",
              "      <th>1</th>\n",
              "      <td>186</td>\n",
              "      <td>302</td>\n",
              "      <td>3</td>\n",
              "      <td>891717742</td>\n",
              "    </tr>\n",
              "    <tr>\n",
              "      <th>2</th>\n",
              "      <td>22</td>\n",
              "      <td>377</td>\n",
              "      <td>1</td>\n",
              "      <td>878887116</td>\n",
              "    </tr>\n",
              "    <tr>\n",
              "      <th>3</th>\n",
              "      <td>244</td>\n",
              "      <td>51</td>\n",
              "      <td>2</td>\n",
              "      <td>880606923</td>\n",
              "    </tr>\n",
              "    <tr>\n",
              "      <th>4</th>\n",
              "      <td>166</td>\n",
              "      <td>346</td>\n",
              "      <td>1</td>\n",
              "      <td>886397596</td>\n",
              "    </tr>\n",
              "    <tr>\n",
              "      <th>...</th>\n",
              "      <td>...</td>\n",
              "      <td>...</td>\n",
              "      <td>...</td>\n",
              "      <td>...</td>\n",
              "    </tr>\n",
              "    <tr>\n",
              "      <th>99995</th>\n",
              "      <td>880</td>\n",
              "      <td>476</td>\n",
              "      <td>3</td>\n",
              "      <td>880175444</td>\n",
              "    </tr>\n",
              "    <tr>\n",
              "      <th>99996</th>\n",
              "      <td>716</td>\n",
              "      <td>204</td>\n",
              "      <td>5</td>\n",
              "      <td>879795543</td>\n",
              "    </tr>\n",
              "    <tr>\n",
              "      <th>99997</th>\n",
              "      <td>276</td>\n",
              "      <td>1090</td>\n",
              "      <td>1</td>\n",
              "      <td>874795795</td>\n",
              "    </tr>\n",
              "    <tr>\n",
              "      <th>99998</th>\n",
              "      <td>13</td>\n",
              "      <td>225</td>\n",
              "      <td>2</td>\n",
              "      <td>882399156</td>\n",
              "    </tr>\n",
              "    <tr>\n",
              "      <th>99999</th>\n",
              "      <td>12</td>\n",
              "      <td>203</td>\n",
              "      <td>3</td>\n",
              "      <td>879959583</td>\n",
              "    </tr>\n",
              "  </tbody>\n",
              "</table>\n",
              "<p>100000 rows × 4 columns</p>\n",
              "</div>"
            ],
            "text/plain": [
              "         0     1  2          3\n",
              "0      196   242  3  881250949\n",
              "1      186   302  3  891717742\n",
              "2       22   377  1  878887116\n",
              "3      244    51  2  880606923\n",
              "4      166   346  1  886397596\n",
              "...    ...   ... ..        ...\n",
              "99995  880   476  3  880175444\n",
              "99996  716   204  5  879795543\n",
              "99997  276  1090  1  874795795\n",
              "99998   13   225  2  882399156\n",
              "99999   12   203  3  879959583\n",
              "\n",
              "[100000 rows x 4 columns]"
            ]
          },
          "metadata": {
            "tags": []
          },
          "execution_count": 13
        }
      ]
    },
    {
      "cell_type": "code",
      "metadata": {
        "id": "yQcT0lWOIZrR",
        "colab_type": "code",
        "colab": {}
      },
      "source": [
        "def load_reviews(path, **kwargs):\n",
        "    options = {\n",
        "        'fieldnames':('userid','movieid','rating','timestamp'),\n",
        "        'delimiter' : '\\t'\n",
        "    }\n",
        "    options.update(kwargs)\n",
        "    parse_date = lambda r,k : datetime.datetime.fromtimestamp(float(r[k]))\n",
        "    parse_int = lambda r,k : int(r[k])\n",
        "    with open(path,'r',encoding = \"ISO-8859-1\") as reviews:\n",
        "        reader = csv.DictReader(reviews,**options)\n",
        "        for row in reader:\n",
        "            row['userid'] = parse_int(row, 'userid') \n",
        "            row['movieid'] = parse_int(row, 'movieid') \n",
        "            row['rating'] = parse_int(row, 'rating') \n",
        "            row['timestamp'] = parse_date(row, 'timestamp') \n",
        "            yield row\n"
      ],
      "execution_count": 0,
      "outputs": []
    },
    {
      "cell_type": "code",
      "metadata": {
        "id": "b_oqfQdYKRAe",
        "colab_type": "code",
        "colab": {}
      },
      "source": [
        "def relative_path(path):\n",
        "    dirname = os.path.dirname(os.path.realpath('__file__')) \n",
        "    path = os.path.join(dirname, path) \n",
        "    return os.path.normpath(path)"
      ],
      "execution_count": 0,
      "outputs": []
    },
    {
      "cell_type": "code",
      "metadata": {
        "id": "cVlQFoTIMcGH",
        "colab_type": "code",
        "colab": {}
      },
      "source": [
        "def load_movies(path, **kwargs):\n",
        "    options = {\n",
        "        'fieldnames': ('movieid', 'title', 'release', 'video', 'url'),\n",
        "        'delimiter': '|','restkey': 'genre'\n",
        "    }\n",
        "    options.update(kwargs)\n",
        "    parse_int = lambda r,k: int(r[k]) \n",
        "    parse_date = lambda r,k: datetime.datetime.strptime(r[k], '%d-%b-%Y') if r[k] else None \n",
        "    with open(path, 'r',encoding = \"ISO-8859-1\") as movies: \n",
        "        reader = csv.DictReader(movies, **options) \n",
        "        for row in reader: \n",
        "            row['movieid'] = parse_int(row, 'movieid') \n",
        "            row['release'] = parse_date(row, 'release') \n",
        "            row['video'] = parse_date(row, 'video') \n",
        "            yield row\n",
        "\n"
      ],
      "execution_count": 0,
      "outputs": []
    },
    {
      "cell_type": "code",
      "metadata": {
        "id": "i_x9lB53NQKC",
        "colab_type": "code",
        "colab": {}
      },
      "source": [
        "class MovieLens(object): \n",
        "\n",
        "    def __init__(self, udata, uitem):\n",
        "        self.udata = udata \n",
        "        self.uitem = uitem \n",
        "        self.movies = {} \n",
        "        self.reviews = defaultdict(dict) \n",
        "        self.load_dataset()\n",
        "\n",
        "    def load_dataset(self):\n",
        "        for movie in load_movies(self.uitem): \n",
        "            self.movies[movie['movieid']] = movie \n",
        "        for review in load_reviews(self.udata): \n",
        "            self.reviews[review['userid']][review['movieid']] = review\n",
        "    \n",
        "    def reviews_for_movie(self, movieid):\n",
        "        for review in self.reviews.values(): \n",
        "            if movieid in review: \n",
        "                yield review[movieid]\n",
        "\n",
        "    def average_reviews(self): \n",
        "        for movieid in self.movies: \n",
        "            reviews = list(r['rating'] for r in self.reviews_for_movie(movieid)) \n",
        "            average = sum(reviews) / float(len(reviews)) \n",
        "            yield (movieid, average, len(reviews))\n",
        "\n",
        "    def top_rated(self, n=10): \n",
        "        return heapq.nlargest(n, self.bayesian_average(), key=itemgetter(1))\n",
        "\n",
        "    def bayesian_average(self, c=59, m=3): \n",
        "        for movieid in self.movies: \n",
        "            reviews = list(r['rating'] for r in self.reviews_for_movie(movieid)) \n",
        "            average = ((c * m) + sum(reviews)) / float(c + len(reviews)) \n",
        "            yield (movieid, average, len(reviews))\n",
        "\n",
        "    def shared_preferences(self, criticA, criticB): \n",
        "        if criticA not in self.reviews: \n",
        "            raise KeyError(\"Couldn't find critic '%s' in data\" % criticA) \n",
        "        if criticB not in self.reviews: \n",
        "            raise KeyError(\"Couldn't find critic '%s' in data\" % criticB) \n",
        "        moviesA = set(self.reviews[criticA].keys()) \n",
        "        moviesB = set(self.reviews[criticB].keys()) \n",
        "        shared = moviesA & moviesB  \n",
        "        reviews = {} \n",
        "        for movieid in shared: \n",
        "            reviews[movieid] = ( self.reviews[criticA][movieid]['rating'], \n",
        "                                self.reviews[criticB][movieid]['rating'], ) \n",
        "        return reviews\n",
        "    \n",
        "    def euclidean_distance(self, criticA, criticB): \n",
        "        preferences = self.shared_preferences(criticA, criticB) \n",
        "        if len(preferences) == 0: \n",
        "            return 0 \n",
        "        sum_of_squares = sum([pow(a-b, 2) for a, b in preferences.values()]) \n",
        "        return 1 / (1 + sqrt(sum_of_squares))\n",
        "\n",
        "    def pearson_correlation(self, criticA, criticB):\n",
        "        \n",
        "        preferences = self.shared_preferences(criticA, criticB)\n",
        "        length = len(preferences)\n",
        "        if length == 0: return 0\n",
        "        sumA = sumB = sumSquareA = sumSquareB = sumProducts = 0\n",
        "        for a, b in preferences.values():\n",
        "            sumA += a\n",
        "            sumB += b\n",
        "            sumSquareA += pow(a, 2)\n",
        "            sumSquareB += pow(b, 2)\n",
        "            sumProducts += a*b\n",
        "        numerator = (sumProducts*length) - (sumA*sumB)\n",
        "        denominator = sqrt(((sumSquareA*length) - pow(sumA, 2)) *\n",
        "        ((sumSquareB*length) - pow(sumB, 2)))\n",
        "        if denominator == 0: return 0\n",
        "        return abs(numerator / denominator)\n",
        "\n",
        "    def similar_critics(self, user, metric='euclidean', n=None):\n",
        "    \n",
        "        metrics = {\n",
        "        'euclidean': self.euclidean_distance,\n",
        "        'pearson': self.pearson_correlation,\n",
        "        }\n",
        "        distance = metrics.get(metric, None)\n",
        "        if user not in self.reviews:\n",
        "            raise KeyError(\"Unknown user, '%s'.\" % user)\n",
        "        if not distance or not callable(distance):\n",
        "            raise KeyError(\"Unknown or unprogrammed distance metric'%s'.\" % metric)\n",
        "        critics = {}\n",
        "        for critic in self.reviews:\n",
        "            if critic == user:\n",
        "                continue\n",
        "            critics[critic] = distance(user, critic)\n",
        "        if n:\n",
        "            return heapq.nlargest(n, critics.items(),key=itemgetter(1))\n",
        "        return critics\n",
        "    \n",
        "    def predict_ranking(self, user, movie, metric='euclidean',critics=None):\n",
        "    \n",
        "        critics = critics or self.similar_critics(user,metric=metric)\n",
        "        total = 0.0\n",
        "        simsum = 0.0\n",
        "        for critic, similarity in critics.items():\n",
        "            if movie in self.reviews[critic]:\n",
        "                total += similarity * self.reviews[critic][movie]['rating']\n",
        "            simsum += similarity\n",
        "        if simsum == 0.0: \n",
        "            return 0.0\n",
        "        return total / simsum\n",
        "\n",
        "    def predict_all_rankings(self, user, metric='euclidean',n=None):\n",
        "\n",
        "        critics = self.similar_critics(user, metric=metric)\n",
        "        movies = {\n",
        "            movie: self.predict_ranking(user, movie, metric,critics) for movie in self.movies\n",
        "        }\n",
        "        if n:\n",
        "            return heapq.nlargest(n, movies.items(),key=itemgetter(1))\n",
        "        return movies\n",
        "\n",
        "    def shared_critics(self, movieA, movieB):\n",
        "        \n",
        "        if movieA not in self.movies:\n",
        "            raise KeyError(\"Couldn't find movie '%s' in data\" %movieA)\n",
        "        if movieB not in self.movies:\n",
        "            raise KeyError(\"Couldn't find movie '%s' in data\" %movieB)\n",
        "        criticsA = set(critic for critic in self.reviews if movieA in self.reviews[critic])\n",
        "        criticsB = set(critic for critic in self.reviews if movieB in self.reviews[critic])\n",
        "        shared = criticsA & criticsB \n",
        "        reviews = {}\n",
        "        for critic in shared:\n",
        "            reviews[critic] = (\n",
        "            self.reviews[critic][movieA]['rating'],\n",
        "            self.reviews[critic][movieB]['rating'],\n",
        "            )\n",
        "        return reviews\n",
        "    \n",
        "    def similar_items(self, movie, metric='euclidean', n=None):\n",
        "        prefs = None\n",
        "        metrics = {\n",
        "        'euclidean': self.euclidean_distance,\n",
        "        'pearson': self.pearson_correlation,\n",
        "        }\n",
        "        distance = metrics.get(metric,None)\n",
        "        if movie not in self.reviews:\n",
        "            raise KeyError(\"Unknown movie, '%s'.\" % movie)\n",
        "        if not distance or not callable(distance):\n",
        "            raise KeyError(\"Unknown or unprogrammed distance metric'%s'.\" % metric)\n",
        "        items = {}\n",
        "        for item in self.movies:\n",
        "            if item == movie:\n",
        "                continue\n",
        "            items[item] = distance(item, movie)\n",
        "        if n:\n",
        "            return heapq.nlargest(n, items.items(),key=itemgetter(1))\n",
        "        return items\n",
        "\n",
        "    def predict_ranking(self, user, movie, metric='euclidean'):\n",
        "        movies = self.similar_items(movie, metric=metric)\n",
        "        total = 0.0\n",
        "        simsum = 0.0\n",
        "        for relmovie, similarity in movies.items():\n",
        "            if relmovie in self.reviews[user]:\n",
        "                total += similarity *self.reviews[user][relmovie]['rating']\n",
        "            simsum += similarity\n",
        "        if simsum == 0.0: return 0.0\n",
        "        return total / simsum\n",
        "\n",
        "\n",
        "\n",
        "\n"
      ],
      "execution_count": 0,
      "outputs": []
    },
    {
      "cell_type": "code",
      "metadata": {
        "id": "ozI9lEmHNTUg",
        "colab_type": "code",
        "outputId": "3372e65b-dba0-4e3a-b4ea-fb44e38c8f82",
        "colab": {
          "base_uri": "https://localhost:8080/",
          "height": 34
        }
      },
      "source": [
        "data = relative_path('u.data') \n",
        "item = relative_path('u.item.item') \n",
        "model = MovieLens(data, item)\n",
        "model.euclidean_distance(232, 532)\n",
        "model.pearson_correlation(232,532)"
      ],
      "execution_count": 35,
      "outputs": [
        {
          "output_type": "execute_result",
          "data": {
            "text/plain": [
              "0.06025793538385047"
            ]
          },
          "metadata": {
            "tags": []
          },
          "execution_count": 35
        }
      ]
    },
    {
      "cell_type": "code",
      "metadata": {
        "id": "FAknjDcCOS0W",
        "colab_type": "code",
        "outputId": "d69a2a98-ae48-4e8a-cfda-c6ea70c461e1",
        "colab": {
          "base_uri": "https://localhost:8080/",
          "height": 185
        }
      },
      "source": [
        "for mid, avg, num in model.top_rated(10): \n",
        "    title = model.movies[mid]['title'] \n",
        "    print(\"[%0.3f average rating (%i reviews)] %s\" % (avg, num,title))\n"
      ],
      "execution_count": 0,
      "outputs": [
        {
          "output_type": "stream",
          "text": [
            "[4.234 average rating (583 reviews)] Star Wars (1977)\n",
            "[4.224 average rating (298 reviews)] Schindler's List (1993)\n",
            "[4.196 average rating (283 reviews)] Shawshank Redemption, The (1994)\n",
            "[4.172 average rating (243 reviews)] Casablanca (1942)\n",
            "[4.135 average rating (267 reviews)] Usual Suspects, The (1995)\n",
            "[4.123 average rating (413 reviews)] Godfather, The (1972)\n",
            "[4.120 average rating (390 reviews)] Silence of the Lambs, The (1991)\n",
            "[4.098 average rating (420 reviews)] Raiders of the Lost Ark (1981)\n",
            "[4.082 average rating (209 reviews)] Rear Window (1954)\n",
            "[4.066 average rating (350 reviews)] Titanic (1997)\n"
          ],
          "name": "stdout"
        }
      ]
    },
    {
      "cell_type": "code",
      "metadata": {
        "id": "MAo3CpwrPR87",
        "colab_type": "code",
        "outputId": "3c2114cf-ce5d-4eee-de7c-82916f5cd846",
        "colab": {
          "base_uri": "https://localhost:8080/",
          "height": 185
        }
      },
      "source": [
        "for item in model.similar_critics(232, 'euclidean', n=10):\n",
        "    print(\"%4i: %0.3f\" % item)"
      ],
      "execution_count": 0,
      "outputs": [
        {
          "output_type": "stream",
          "text": [
            " 688: 1.000\n",
            " 914: 1.000\n",
            " 170: 0.500\n",
            "  78: 0.500\n",
            "  47: 0.500\n",
            " 335: 0.500\n",
            " 341: 0.500\n",
            " 155: 0.414\n",
            " 101: 0.414\n",
            " 309: 0.414\n"
          ],
          "name": "stdout"
        }
      ]
    },
    {
      "cell_type": "code",
      "metadata": {
        "id": "sGoyUSGbg5wb",
        "colab_type": "code",
        "outputId": "b64b6834-2732-4019-acd3-6992b9842c08",
        "colab": {
          "base_uri": "https://localhost:8080/",
          "height": 185
        }
      },
      "source": [
        "for item in model.similar_critics(232, 'pearson', n=10):\n",
        "    print(\"%4i: %0.3f\" % item)"
      ],
      "execution_count": 0,
      "outputs": [
        {
          "output_type": "stream",
          "text": [
            " 260: 1.000\n",
            " 155: 1.000\n",
            "  36: 1.000\n",
            " 302: 1.000\n",
            "  33: 1.000\n",
            " 289: 1.000\n",
            " 309: 1.000\n",
            " 317: 1.000\n",
            " 511: 1.000\n",
            " 769: 1.000\n"
          ],
          "name": "stdout"
        }
      ]
    },
    {
      "cell_type": "code",
      "metadata": {
        "id": "aKq3s7TpDb46",
        "colab_type": "code",
        "outputId": "8b376012-3e03-4812-f664-b550f14cb17a",
        "colab": {
          "base_uri": "https://localhost:8080/",
          "height": 34
        }
      },
      "source": [
        "model.predict_ranking(422, 50, 'euclidean')"
      ],
      "execution_count": 0,
      "outputs": [
        {
          "output_type": "execute_result",
          "data": {
            "text/plain": [
              "2.337352499545245"
            ]
          },
          "metadata": {
            "tags": []
          },
          "execution_count": 96
        }
      ]
    },
    {
      "cell_type": "code",
      "metadata": {
        "id": "FGOiIj7JP1ms",
        "colab_type": "code",
        "outputId": "ef8e2cb1-50e3-4215-b833-095317b68eb8",
        "colab": {
          "base_uri": "https://localhost:8080/",
          "height": 185
        }
      },
      "source": [
        "for mid, rating in model.predict_all_rankings(578, 'pearson',10):\n",
        "    print(\"%0.3f: %s\" % (rating, model.movies[mid]['title']))"
      ],
      "execution_count": 0,
      "outputs": [
        {
          "output_type": "stream",
          "text": [
            "2.644: Star Wars (1977)\n",
            "2.146: Fargo (1996)\n",
            "2.121: Return of the Jedi (1983)\n",
            "2.038: Contact (1997)\n",
            "1.856: English Patient, The (1996)\n",
            "1.786: Toy Story (1995)\n",
            "1.784: Godfather, The (1972)\n",
            "1.750: Air Force One (1997)\n",
            "1.746: Scream (1996)\n",
            "1.710: Raiders of the Lost Ark (1981)\n"
          ],
          "name": "stdout"
        }
      ]
    },
    {
      "cell_type": "code",
      "metadata": {
        "id": "_AnMQpIgRO4Z",
        "colab_type": "code",
        "colab": {}
      },
      "source": [
        ""
      ],
      "execution_count": 0,
      "outputs": []
    },
    {
      "cell_type": "code",
      "metadata": {
        "id": "pUFUiDSqZDuM",
        "colab_type": "code",
        "colab": {}
      },
      "source": [
        ""
      ],
      "execution_count": 0,
      "outputs": []
    },
    {
      "cell_type": "code",
      "metadata": {
        "id": "rsFxAa2NcJMY",
        "colab_type": "code",
        "colab": {}
      },
      "source": [
        ""
      ],
      "execution_count": 0,
      "outputs": []
    },
    {
      "cell_type": "code",
      "metadata": {
        "id": "J_VRrNdPRZv0",
        "colab_type": "code",
        "colab": {}
      },
      "source": [
        ""
      ],
      "execution_count": 0,
      "outputs": []
    },
    {
      "cell_type": "code",
      "metadata": {
        "id": "F9UefHb4RcAU",
        "colab_type": "code",
        "colab": {}
      },
      "source": [
        ""
      ],
      "execution_count": 0,
      "outputs": []
    },
    {
      "cell_type": "code",
      "metadata": {
        "id": "xA1JeAhHY2fn",
        "colab_type": "code",
        "colab": {}
      },
      "source": [
        ""
      ],
      "execution_count": 0,
      "outputs": []
    },
    {
      "cell_type": "code",
      "metadata": {
        "id": "_Z_6k0rOkXf6",
        "colab_type": "code",
        "colab": {}
      },
      "source": [
        ""
      ],
      "execution_count": 0,
      "outputs": []
    },
    {
      "cell_type": "code",
      "metadata": {
        "id": "DsFt-UZgm3wO",
        "colab_type": "code",
        "colab": {}
      },
      "source": [
        ""
      ],
      "execution_count": 0,
      "outputs": []
    }
  ]
}